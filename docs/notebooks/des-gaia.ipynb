{
 "cells": [
  {
   "cell_type": "markdown",
   "id": "eec8f0f416a616da",
   "metadata": {
    "collapsed": false
   },
   "source": [
    "# Cross-matching of large catalogs: DES to Gaia\n",
    "\n",
    "In this tutorial we cross-match nain tables of Dark Energy Survey (DES) DR2 and Gaia DR3 catalogs. The outline of the tutorial is as follows:\n",
    "1. Get original data files\n",
    "2. Convert the data to HiPSCat format using [`hipscat-import`](https://github.com/astronomy-commons/hipscat-import/)\n",
    "3. Cross-match the catalogs using LSDB and save to a new HiPSCat catalog"
   ]
  },
  {
   "cell_type": "markdown",
   "id": "67b56ee5ec14b50",
   "metadata": {
    "collapsed": false
   },
   "source": [
    "### Install required packages and import modules"
   ]
  },
  {
   "cell_type": "code",
   "execution_count": null,
   "id": "dbf9a727fa9682a1",
   "metadata": {
    "ExecuteTime": {
     "end_time": "2024-02-19T15:17:51.406617Z",
     "start_time": "2024-02-19T15:17:44.126656Z"
    }
   },
   "outputs": [],
   "source": [
    "import lsdb\n",
    "\n",
    "# Uncomment to install hipscat-import\n",
    "# ! pip install --quiet hipscat-import\n",
    "! pip install --quiet git+https://github.com/astronomy-commons/hipscat-import.git@issue/221/gaia\n",
    "\n",
    "# Uncomment to install lsdb\n",
    "# ! pip install --quiet lsdb"
   ]
  },
  {
   "cell_type": "code",
   "execution_count": null,
   "id": "a37c4b45dede404c",
   "metadata": {
    "ExecuteTime": {
     "end_time": "2024-02-19T15:17:51.412120Z",
     "start_time": "2024-02-19T15:17:51.408713Z"
    }
   },
   "outputs": [],
   "source": [
    "# For files and directories manipulation\n",
    "from pathlib import Path\n",
    "\n",
    "# For Gaia columns data types inference\n",
    "import pyarrow\n",
    "from astropy.io import ascii\n",
    "\n",
    "# Client for Dask distributed computing\n",
    "from dask.distributed import Client\n",
    "\n",
    "# Explore the HiPSCat catalogs and plot sky maps\n",
    "import hipscat\n",
    "from hipscat.catalog import Catalog\n",
    "from hipscat.inspection import plot_pixels\n",
    "\n",
    "# For reading the HiPSCat catalogs and performing the cross-match\n",
    "import lsdb\n",
    "\n",
    "# For converting the data to HiPSCat format\n",
    "from hipscat_import.catalog.file_readers import CsvReader\n",
    "from hipscat_import.pipeline import ImportArguments, pipeline_with_client"
   ]
  },
  {
   "cell_type": "markdown",
   "id": "97b048203b312d19",
   "metadata": {
    "collapsed": false
   },
   "source": [
    "## Get original data files\n",
    "\n",
    "??? Do we need to get scripts / Python code to download the data? Maybe one-liner with recursive `wget`?\n",
    "\n",
    "To make this notebook faster to run and using less storage, we will use a subset of the data. However, the same pipeline, with no code changes, may be used to process the full catalogs."
   ]
  },
  {
   "cell_type": "code",
   "execution_count": null,
   "id": "2828441463c81505",
   "metadata": {
    "ExecuteTime": {
     "end_time": "2024-02-19T15:17:51.412730Z",
     "start_time": "2024-02-19T15:17:51.411639Z"
    }
   },
   "outputs": [],
   "source": [
    "# Change to the directories where the data will be stored\n",
    "DES_DIR = Path(\"data/DES_DR2\")\n",
    "GAIA_DIR = Path(\"data/Gaia_DR3\")\n",
    "\n",
    "HIPSCAT_DIR = Path(\"hipscat\")\n",
    "DES_HIPSCAT_DIR = HIPSCAT_DIR / \"des_dr2\"\n",
    "GAIA_HIPSCAT_DIR = HIPSCAT_DIR / \"gaia_dr3\""
   ]
  },
  {
   "cell_type": "markdown",
   "id": "cb1d86f5da054036",
   "metadata": {
    "collapsed": false
   },
   "source": [
    "### DES DR2\n",
    "\n",
    "The Dark Eenrgy Survey DR2 catalog is hosted by NCSA, see the [official website](https://des.ncsa.illinois.edu/releases/dr2) for more information. Data files, in [FITS](https://fits.gsfc.nasa.gov) format, are located at <https://desdr-server.ncsa.illinois.edu/despublic/dr2_tiles/>.\n",
    "\n",
    "We use `*dr2_main.fits` files for the main catalog table, see [the schema here](https://des.ncsa.illinois.edu/releases/dr2/dr2-products/dr2-schema).\n",
    "\n",
    "Here we download a few first files to demonstrate the pipeline. The full catalog is much larger, feel free to download it all if you have enough storage."
   ]
  },
  {
   "cell_type": "code",
   "execution_count": null,
   "id": "3678ae0f1ab1e8e1",
   "metadata": {
    "ExecuteTime": {
     "end_time": "2024-02-19T15:17:51.416939Z",
     "start_time": "2024-02-19T15:17:51.415430Z"
    }
   },
   "outputs": [],
   "source": [
    "# Comment / skip this cell if you already have the data\n",
    "\n",
    "from shutil import copyfileobj\n",
    "\n",
    "import requests  # For downloading files\n",
    "\n",
    "# Download few first files\n",
    "des_urls = [\n",
    "    \"https://desdr-server.ncsa.illinois.edu/despublic/dr2_tiles/DES0000+0209/DES0000+0209_dr2_main.fits\",\n",
    "    \"https://desdr-server.ncsa.illinois.edu/despublic/dr2_tiles/DES0000+0252/DES0000+0252_dr2_main.fits\",\n",
    "    \"https://desdr-server.ncsa.illinois.edu/despublic/dr2_tiles/DES0000+0335/DES0000+0335_dr2_main.fits\",\n",
    "]\n",
    "\n",
    "for des_url in des_urls:\n",
    "    des_file = DES_DIR / Path(des_url).name\n",
    "    if not des_file.exists():\n",
    "        des_file.parent.mkdir(parents=True, exist_ok=True)\n",
    "        with requests.get(des_url, stream=True) as r, open(des_file, \"wb\") as f:\n",
    "            copyfileobj(r.raw, f)"
   ]
  },
  {
   "cell_type": "markdown",
   "id": "7e2d48996f2393bd",
   "metadata": {
    "collapsed": false
   },
   "source": [
    "### Gaia DR3\n",
    "\n",
    "The Gaia DR3 catalog is hosted by ESA, see the [official website](https://www.cosmos.esa.int/web/gaia/dr3) for more information. Data files, in [ECSV](https://docs.astropy.org/en/stable/io/ascii/ecsv.html) format are located at <http://cdn.gea.esac.esa.int/Gaia/gdr3/gaia_source/>.\n",
    "\n",
    "We use `gaia_source` table, see its [schema here](https://gea.esac.esa.int/archive/documentation/GDR3/Gaia_archive/chap_datamodel/sec_dm_main_source_catalogue/ssec_dm_gaia_source.html).\n",
    "\n",
    "Here we donwload a few files which barely correspond to the same area of the sky as the DES DR2 files above. The full catalog is much larger, feel free to download it all if you have enough storage."
   ]
  },
  {
   "cell_type": "code",
   "execution_count": null,
   "id": "1b5f72a701f38dbb",
   "metadata": {
    "ExecuteTime": {
     "end_time": "2024-02-19T15:17:51.421149Z",
     "start_time": "2024-02-19T15:17:51.417968Z"
    }
   },
   "outputs": [],
   "source": [
    "# Comment / skip this cell if you already have the data\n",
    "\n",
    "from shutil import copyfileobj\n",
    "\n",
    "import requests  # For downloading files\n",
    "\n",
    "# Download few first files\n",
    "gaia_urls = [\n",
    "    \"http://cdn.gea.esac.esa.int/Gaia/gdr3/gaia_source/GaiaSource_310878-313367.csv.gz\",\n",
    "]\n",
    "\n",
    "for gaia_url in gaia_urls:\n",
    "    gaia_file = GAIA_DIR / Path(gaia_url).name\n",
    "    if not gaia_file.exists():\n",
    "        gaia_file.parent.mkdir(parents=True, exist_ok=True)\n",
    "        with requests.get(gaia_url, stream=True) as r, open(gaia_file, \"wb\") as f:\n",
    "            copyfileobj(r.raw, f)"
   ]
  },
  {
   "cell_type": "markdown",
   "id": "b0abab73273d15af",
   "metadata": {
    "collapsed": false
   },
   "source": [
    "## Convert the data to HiPSCat format\n",
    "\n",
    "We use the [`hipscat-import`](https://github.com/astronomy-commons/hipscat-import/) tool to create HiPSCat catalogs from the original data files."
   ]
  },
  {
   "cell_type": "markdown",
   "id": "b59b0f78a4a79180",
   "metadata": {
    "collapsed": false
   },
   "source": [
    "### Convert DES DR2 to HiPSCat\n",
    "\n",
    "- Plan the pipeline specifying all parameters of the conversion\n",
    "- Run the pipeline with [Dask](https://dask.org)"
   ]
  },
  {
   "cell_type": "code",
   "execution_count": null,
   "id": "6c4a751793a5b9d5",
   "metadata": {
    "ExecuteTime": {
     "end_time": "2024-02-19T15:17:59.042024Z",
     "start_time": "2024-02-19T15:17:51.420389Z"
    }
   },
   "outputs": [],
   "source": [
    "des_args = ImportArguments(\n",
    "    # sort columns are optional and works only if few objects are very close to each other\n",
    "    sort_columns=\"COADD_OBJECT_ID\",\n",
    "    ra_column=\"RA\",\n",
    "    dec_column=\"DEC\",\n",
    "    input_path=DES_DIR,\n",
    "    input_format=\"fits\",\n",
    "    output_artifact_name=\"des_dr2\",\n",
    "    output_path=HIPSCAT_DIR,\n",
    "    # Uncomment to overwrite existing catalog\n",
    "    # overwrite=True,\n",
    ")\n",
    "\n",
    "with Client() as client:\n",
    "    pipeline_with_client(des_args, client)"
   ]
  },
  {
   "cell_type": "markdown",
   "id": "59f4c0a3ff7526cb",
   "metadata": {
    "collapsed": false
   },
   "source": [
    "#### Plot the DES DR2 HiPSCat catalog pixels"
   ]
  },
  {
   "cell_type": "code",
   "execution_count": null,
   "id": "472a0b17149f50ba",
   "metadata": {
    "ExecuteTime": {
     "end_time": "2024-02-19T15:17:59.261709Z",
     "start_time": "2024-02-19T15:17:59.042479Z"
    }
   },
   "outputs": [],
   "source": [
    "# Read the HiPSCat catalog metadata, it does not load any data, just healpix pixels and other metadata\n",
    "des_hipscat_catalog = Catalog.read_from_hipscat(DES_HIPSCAT_DIR)\n",
    "plot_pixels(des_hipscat_catalog)\n",
    "\n",
    "# TODO: add DES footprint to this plot\n",
    "# https://des.ncsa.illinois.edu/static/images/dr2/dr2_footprint.png"
   ]
  },
  {
   "cell_type": "markdown",
   "id": "3291125e651b68b7",
   "metadata": {
    "collapsed": false
   },
   "source": [
    "### Convert Gaia DR3 to HiPSCat\n",
    "\n",
    "For Gaia we need to specify schema of the input data, because currently `hipscat-import` cannot infer column data types properly from this dataset.\n",
    "\n",
    "See this GitHub issue for more details: <>"
   ]
  },
  {
   "cell_type": "code",
   "execution_count": null,
   "id": "87db92f82a8f046f",
   "metadata": {
    "ExecuteTime": {
     "end_time": "2024-02-19T15:18:01.482543Z",
     "start_time": "2024-02-19T15:17:59.266609Z"
    }
   },
   "outputs": [],
   "source": [
    "empty_astropy_table = ascii.read(gaia_file, format=\"ecsv\", data_end=1)\n",
    "\n",
    "# table_dtypes = {name: empty_astropy_table[name].dtype for name in empty_astropy_table.colnames}\n",
    "# parquet_schema = pyarrow.schema(pyarrow.field(name, pyarrow.from_numpy_dtype(dtype), nullable=True) for name, dtype in table_dtypes.items())\n",
    "# pyarrow.parquet.ParquetWriter(GAIA_DIR / 'schema.parquet', parquet_schema).close()\n",
    "\n",
    "empty_astropy_table.to_pandas().to_parquet(GAIA_DIR / \"schema.parquet\")"
   ]
  },
  {
   "cell_type": "code",
   "execution_count": null,
   "id": "54857141a690eb58",
   "metadata": {},
   "outputs": [],
   "source": [
    "gaia_args = ImportArguments(\n",
    "    # sort columns are optional and works only if few objects are very close to each other\n",
    "    sort_columns=\"source_id\",\n",
    "    ra_column=\"ra\",\n",
    "    dec_column=\"dec\",\n",
    "    input_path=GAIA_DIR,\n",
    "    input_format=\"csv.gz\",\n",
    "    file_reader=CsvReader(\n",
    "        comment=\"#\",\n",
    "        schema_file=GAIA_DIR / \"schema.parquet\",\n",
    "        parquet_kwargs={\"dtype_backend\": \"numpy_nullable\"},\n",
    "    ),\n",
    "    use_schema_file=GAIA_DIR / \"schema.parquet\",\n",
    "    output_artifact_name=\"gaia_dr3\",\n",
    "    output_path=HIPSCAT_DIR,\n",
    "    # Uncomment to overwrite existing catalog\n",
    "    overwrite=True,\n",
    ")\n",
    "\n",
    "with Client() as client:\n",
    "    pipeline_with_client(gaia_args, client)"
   ]
  },
  {
   "cell_type": "code",
   "execution_count": null,
   "id": "ff94c17e4a09908",
   "metadata": {
    "ExecuteTime": {
     "end_time": "2024-02-19T15:18:46.708052Z",
     "start_time": "2024-02-19T15:18:46.707202Z"
    }
   },
   "outputs": [],
   "source": []
  }
 ],
 "metadata": {
  "kernelspec": {
   "display_name": "Python 3",
   "language": "python",
   "name": "python3"
  },
  "language_info": {
   "codemirror_mode": {
    "name": "ipython",
    "version": 2
   },
   "file_extension": ".py",
   "mimetype": "text/x-python",
   "name": "python",
   "nbconvert_exporter": "python",
   "pygments_lexer": "ipython2",
   "version": "2.7.6"
  }
 },
 "nbformat": 4,
 "nbformat_minor": 5
}
